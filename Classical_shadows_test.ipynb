{
 "cells": [
  {
   "cell_type": "markdown",
   "id": "a754db32",
   "metadata": {},
   "source": [
    "# Randomized measurements and classical shadows"
   ]
  },
  {
   "cell_type": "code",
   "execution_count": 1,
   "id": "ede5f900",
   "metadata": {},
   "outputs": [],
   "source": [
    "import numpy as np\n",
    "import openfermion as of\n",
    "import cirq"
   ]
  },
  {
   "cell_type": "markdown",
   "id": "11401822",
   "metadata": {},
   "source": [
    "## Prepare Neél state"
   ]
  },
  {
   "cell_type": "code",
   "execution_count": 2,
   "id": "4dde066f",
   "metadata": {},
   "outputs": [],
   "source": [
    "def neel_state(qubits):\n",
    "    n = len(qubits)\n",
    "    for qub in range(1,n,2):\n",
    "        yield cirq.X.on(qubits[qub])"
   ]
  },
  {
   "cell_type": "code",
   "execution_count": 3,
   "id": "220bac06",
   "metadata": {},
   "outputs": [
    {
     "name": "stdout",
     "output_type": "stream",
     "text": [
      "|0101010101⟩\n"
     ]
    }
   ],
   "source": [
    "qubits = cirq.LineQubit.range(10)\n",
    "circuit = cirq.Circuit(neel_state(qubits))\n",
    "sim = cirq.Simulator()\n",
    "final_sv = sim.simulate(circuit, qubit_order=qubits).final_state_vector\n",
    "print(cirq.dirac_notation(final_sv))"
   ]
  },
  {
   "cell_type": "code",
   "execution_count": 4,
   "id": "a0c4f7d9",
   "metadata": {},
   "outputs": [],
   "source": [
    "def xy_hamiltonian(J, alpha, n):\n",
    "    hamiltonian = of.QubitOperator()\n",
    "    for i in range(n):\n",
    "        for j in range(i):\n",
    "            J_ij = J/(np.abs(i-j)**alpha)\n",
    "            hamiltonian += of.QubitOperator(f'X{i} X{j}', J_ij*.5) + of.QubitOperator(f'Y{i} Y{j}', J_ij*.5)\n",
    "    return hamiltonian\n"
   ]
  },
  {
   "cell_type": "code",
   "execution_count": 5,
   "id": "d59e8e5e",
   "metadata": {},
   "outputs": [],
   "source": [
    "def xy_time_evolve(hamiltonian, t, qubits):\n",
    "    n = len(qubits)\n",
    "    for i in range(n):\n",
    "        for j in range(i):\n",
    "            term_x = ((j, 'X'), (i, 'X'))\n",
    "            term_y = ((j, 'Y'), (i, 'Y'))\n",
    "            coeff = hamiltonian.terms[term_x]\n",
    "            yield cirq.ISwapPowGate(exponent=(coeff*(4/np.pi)*t)).on(qubits[i],qubits[j])\n"
   ]
  },
  {
   "cell_type": "code",
   "execution_count": 6,
   "id": "5384c1df",
   "metadata": {},
   "outputs": [],
   "source": [
    "def total_circuit(hamiltonian, t, qubits):\n",
    "    yield neel_state(qubits)\n",
    "    yield xy_time_evolve(hamiltonian, t, qubits)"
   ]
  },
  {
   "cell_type": "code",
   "execution_count": 7,
   "id": "b486c358",
   "metadata": {},
   "outputs": [
    {
     "name": "stdout",
     "output_type": "stream",
     "text": [
      "                                      ┌──────────────────────┐\n",
      "0: ───────iSwap─────────iSwap─────────────────────iSwap──────────────────────────────────────\n",
      "          │             │                         │\n",
      "1: ───X───iSwap^0.318───┼──────────────iSwap──────┼──────────────iSwap───────────────────────\n",
      "                        │              │          │              │\n",
      "2: ─────────────────────iSwap^0.159────iSwap^0.318┼──────────────┼─────────────iSwap─────────\n",
      "                                                  │              │             │\n",
      "3: ───X───────────────────────────────────────────iSwap^0.106────iSwap^0.159───iSwap^0.318───\n",
      "                                      └──────────────────────┘\n"
     ]
    }
   ],
   "source": [
    "n_q = 4\n",
    "J = 1\n",
    "alpha = 1\n",
    "t_evolve = 0.5\n",
    "\n",
    "qubits = cirq.LineQubit.range(n_q)\n",
    "circuit = cirq.Circuit(total_circuit(xy_hamiltonian(J, alpha, n_q), t_evolve, qubits))\n",
    "\n",
    "print(circuit)"
   ]
  },
  {
   "cell_type": "code",
   "execution_count": 8,
   "id": "c5a0c62f",
   "metadata": {},
   "outputs": [
    {
     "name": "stdout",
     "output_type": "stream",
     "text": [
      "['Z', 'Y', 'Z', 'Z']\n"
     ]
    }
   ],
   "source": [
    "k_l = np.random.randint(0,3,4)\n",
    "options = {0:'X', 1:'Y', 2:'Z'}\n",
    "paulis = [options[i] for i in  k_l]\n",
    "print(paulis)"
   ]
  },
  {
   "cell_type": "code",
   "execution_count": 9,
   "id": "c08244cb",
   "metadata": {},
   "outputs": [
    {
     "name": "stdout",
     "output_type": "stream",
     "text": [
      "['Y', 'X', 'X']\n"
     ]
    }
   ],
   "source": [
    "def random_pauli_s(n):\n",
    "    random_l = np.random.randint(0,3,n)\n",
    "    options = {0:'X', 1:'Y', 2:'Z'}\n",
    "    return [options[random_l[q]] for q in range(n)]\n",
    "\n",
    "print(random_pauli_s(3))\n",
    "if random_pauli_s(3)[1] in ['X','Y']:\n",
    "    print('yes')\n",
    "# of.QubitOperator(' '.join(+f'{q}'"
   ]
  },
  {
   "cell_type": "code",
   "execution_count": 10,
   "id": "d3a2c291",
   "metadata": {},
   "outputs": [],
   "source": [
    "def measure_random_pauli(random_pauli_s, circuit, qubits, simulator):\n",
    "    n = len(qubits)\n",
    "    meas_circuit = circuit.copy()\n",
    "    for i in range(n):\n",
    "        if random_pauli_s[i] == 'X':\n",
    "            meas_circuit.append(cirq.H.on(qubits[i]))\n",
    "        if random_pauli_s[i] == 'Y':\n",
    "            meas_circuit.append(cirq.rx(np.pi/2).on(qubits[i]))\n",
    "        meas_circuit.append(cirq.measure(qubits[i],key=f'q{i}'))\n",
    "    return simulator.run(meas_circuit)"
   ]
  },
  {
   "cell_type": "code",
   "execution_count": 11,
   "id": "234f0242",
   "metadata": {},
   "outputs": [
    {
     "name": "stdout",
     "output_type": "stream",
     "text": [
      "['Y', 'Z', 'Y', 'X']\n",
      "q0=1\n",
      "q1=1\n",
      "q2=0\n",
      "q3=0\n",
      "[1, 1, 0, 0]\n"
     ]
    }
   ],
   "source": [
    "n_q = 4\n",
    "J = 1\n",
    "alpha = 1\n",
    "t_evolve = 0.5\n",
    "r_p = random_pauli_s(n_q)\n",
    "print(r_p)\n",
    "\n",
    "qubits = cirq.LineQubit.range(n_q)\n",
    "circuit = cirq.Circuit(total_circuit(xy_hamiltonian(J, alpha, n_q), t_evolve, qubits))\n",
    "results = measure_random_pauli(r_p, circuit, qubits, cirq.DensityMatrixSimulator())\n",
    "\n",
    "def meas_dict_to_list(measurements):\n",
    "    m_l = []\n",
    "    for i in range(len(measurements)):\n",
    "        m_l.append(measurements[f'q{i}'][0][0])\n",
    "    return m_l\n",
    "print(results)\n",
    "print(meas_dict_to_list(results.measurements))"
   ]
  },
  {
   "cell_type": "code",
   "execution_count": 12,
   "id": "8ad02754",
   "metadata": {},
   "outputs": [],
   "source": [
    "def bin_conv(l):\n",
    "    return 1-2*l\n",
    "\n",
    "def classical_shadow(circuit, qubits, n_meas):\n",
    "    n_q = len(qubits)\n",
    "    random_pauli_s_l = [random_pauli_s(n_q) for i in range(n_meas)]\n",
    "    tot_meas = []\n",
    "    \n",
    "    for meas in range(n_meas):\n",
    "        results = measure_random_pauli(random_pauli_s_l[meas], circuit, qubits, cirq.Simulator())\n",
    "        meas_l = meas_dict_to_list(results.measurements)\n",
    "        tot_meas.append(list(map(bin_conv,meas_l)))\n",
    "        \n",
    "    return tot_meas, random_pauli_s_l\n"
   ]
  },
  {
   "cell_type": "code",
   "execution_count": 13,
   "id": "9d970c95",
   "metadata": {
    "scrolled": false
   },
   "outputs": [
    {
     "name": "stdout",
     "output_type": "stream",
     "text": [
      "([[1, 1, 1, -1], [1, -1, 1, 1], [1, -1, 1, -1], [1, 1, 1, -1], [1, 1, 1, 1], [-1, -1, 1, -1], [1, 1, 1, 1], [1, 1, 1, -1], [-1, 1, -1, -1], [-1, -1, -1, -1]], [['X', 'Z', 'Y', 'Y'], ['Y', 'Y', 'Y', 'Y'], ['Z', 'Y', 'Z', 'Z'], ['Z', 'X', 'X', 'Z'], ['Y', 'X', 'Y', 'X'], ['Y', 'Z', 'X', 'Y'], ['Z', 'Y', 'Y', 'Z'], ['Z', 'X', 'X', 'Z'], ['Y', 'X', 'X', 'Y'], ['Y', 'X', 'Y', 'X']])\n"
     ]
    }
   ],
   "source": [
    "print(classical_shadow(circuit, qubits, 10))"
   ]
  },
  {
   "cell_type": "code",
   "execution_count": 14,
   "id": "eaf99b3a",
   "metadata": {},
   "outputs": [],
   "source": [
    "x0_state = (1/np.sqrt(2))*np.array([[1.+0.j,1.+0.j]]).T\n",
    "x1_state = (1/np.sqrt(2))*np.array([[1.+0.j,-1.+0.j]]).T\n",
    "y0_state = (1/np.sqrt(2))*np.array([[1+0.j,0+1.j]]).T\n",
    "y1_state = (1/np.sqrt(2))*np.array([[1+0.j,0-1.j]]).T\n",
    "z0_state = np.array([[1+0.j,0+0.j]]).T\n",
    "z1_state = np.array([[0+0.j,1+0.j]]).T"
   ]
  },
  {
   "cell_type": "code",
   "execution_count": 15,
   "id": "ee0c4580",
   "metadata": {},
   "outputs": [
    {
     "name": "stdout",
     "output_type": "stream",
     "text": [
      "[[0.70710678+0.j]\n",
      " [0.70710678+0.j]]\n",
      "[[ 0.70710678+0.j]\n",
      " [-0.70710678+0.j]]\n",
      "[[0.70710678+0.j        ]\n",
      " [0.        +0.70710678j]]\n",
      "[[0.70710678+0.j        ]\n",
      " [0.        -0.70710678j]]\n",
      "[[1.+0.j]\n",
      " [0.+0.j]]\n",
      "[[0.+0.j]\n",
      " [1.+0.j]]\n"
     ]
    }
   ],
   "source": [
    "print(x0_state)\n",
    "print(x1_state)\n",
    "print(y0_state)\n",
    "print(y1_state)\n",
    "print(z0_state)\n",
    "print(z1_state)"
   ]
  },
  {
   "cell_type": "code",
   "execution_count": 16,
   "id": "03bf2195",
   "metadata": {},
   "outputs": [],
   "source": [
    "s_state_map = {(1,'X'):x0_state,\n",
    "               (-1,'X'):x1_state,\n",
    "               (1,'Y'):y0_state,\n",
    "               (-1,'Y'):y1_state,\n",
    "               (1,'Z'):z0_state,\n",
    "               (-1,'Z'):z1_state}\n",
    "\n",
    "\n",
    "def estimate_exp(class_shadow, observable, n_q):\n",
    "    n_meas = len(class_shadow[0])\n",
    "    expectation = 0.\n",
    "\n",
    "    for meas in range(n_meas):\n",
    "        exp_meas = 0.\n",
    "        for pauli_obs in observable:\n",
    "            \n",
    "            paulis = list(pauli_obs.terms.keys())[0]\n",
    "            p_coeff = list(pauli_obs.terms.values())[0]\n",
    "            \n",
    "            trace_p_i_rho = 1.\n",
    "\n",
    "            for i in range(len(paulis)):\n",
    "                pauli_tup = paulis[i]\n",
    "            \n",
    "                nontriv_idx = pauli_tup[0]\n",
    "                corresponding_pauli = of.get_sparse_operator(of.QubitOperator(f'{pauli_tup[1]}0')).todense()\n",
    "                \n",
    "                cs_outcome = class_shadow[0][meas][nontriv_idx]\n",
    "                cs_p_measured = class_shadow[1][meas][nontriv_idx]\n",
    "                s_state = s_state_map[(cs_outcome,cs_p_measured)]\n",
    "                \n",
    "                trace_p_i_rho *= 3 * (np.conj(s_state).T @ corresponding_pauli @ s_state)\n",
    "\n",
    "            exp_meas += (p_coeff * trace_p_i_rho.real)\n",
    "        expectation += exp_meas\n",
    "    return expectation/n_meas\n",
    "\n",
    "                \n",
    "\n",
    "            "
   ]
  },
  {
   "cell_type": "code",
   "execution_count": 17,
   "id": "7493140d",
   "metadata": {},
   "outputs": [],
   "source": [
    "n_q = 4\n",
    "J = 1\n",
    "alpha = 1\n",
    "n_meas = 50000\n",
    "t_evolve = 0.5\n",
    "\n",
    "\n",
    "hamiltonian = xy_hamiltonian(J, alpha, n_q)\n",
    "qubits = cirq.LineQubit.range(n_q)\n",
    "circuit = cirq.Circuit(total_circuit(hamiltonian, t_evolve, qubits))\n",
    "final_sv = sim.simulate(circuit).final_state_vector\n",
    "\n",
    "classical_shad = classical_shadow(circuit, qubits, n_meas)"
   ]
  },
  {
   "cell_type": "code",
   "execution_count": 18,
   "id": "98469289",
   "metadata": {},
   "outputs": [],
   "source": [
    "test_observable = of.QubitOperator('X0 Y3',.5)"
   ]
  },
  {
   "cell_type": "code",
   "execution_count": 19,
   "id": "15458d11",
   "metadata": {
    "scrolled": true
   },
   "outputs": [
    {
     "name": "stdout",
     "output_type": "stream",
     "text": [
      "real expectation value: -0.1884381969065287\n",
      "expectation value with classical shadow: [[-0.18315]]\n"
     ]
    }
   ],
   "source": [
    "print(\"real expectation value:\", of.expectation(of.get_sparse_operator(test_observable),final_sv).real)\n",
    "print(\"expectation value with classical shadow:\",\n",
    "      estimate_exp(classical_shad, test_observable, n_q))"
   ]
  },
  {
   "cell_type": "code",
   "execution_count": 20,
   "id": "b8b410b4",
   "metadata": {
    "scrolled": true
   },
   "outputs": [
    {
     "name": "stdout",
     "output_type": "stream",
     "text": [
      "real expectation value: -0.06842696505121\n",
      "expectation value with classical shadow: [[-0.08457]]\n"
     ]
    }
   ],
   "source": [
    "print(\"real expectation value:\", of.expectation(of.get_sparse_operator(hamiltonian),final_sv).real)\n",
    "print(\"expectation value with classical shadow:\",\n",
    "      estimate_exp(classical_shad, hamiltonian, n_q))"
   ]
  },
  {
   "cell_type": "code",
   "execution_count": 22,
   "id": "e181dc55",
   "metadata": {},
   "outputs": [
    {
     "name": "stdout",
     "output_type": "stream",
     "text": [
      "(-0.1+0.4j)|0011⟩ + (0.68-0.1j)|0101⟩ + (-0.06+0.34j)|0110⟩ + (-0.02+0.36j)|1001⟩ + (-0.28-0.03j)|1010⟩ + (-0.11+0.12j)|1100⟩\n"
     ]
    }
   ],
   "source": [
    "print(cirq.dirac_notation(final_sv))"
   ]
  },
  {
   "cell_type": "code",
   "execution_count": 21,
   "id": "acf0c50f",
   "metadata": {},
   "outputs": [
    {
     "ename": "TypeError",
     "evalue": "array() missing required argument 'object' (pos 1)",
     "output_type": "error",
     "traceback": [
      "\u001b[0;31m---------------------------------------------------------------------------\u001b[0m",
      "\u001b[0;31mTypeError\u001b[0m                                 Traceback (most recent call last)",
      "\u001b[0;32m/tmp/ipykernel_26207/2912552057.py\u001b[0m in \u001b[0;36m<module>\u001b[0;34m\u001b[0m\n\u001b[0;32m----> 1\u001b[0;31m \u001b[0mnp\u001b[0m\u001b[0;34m.\u001b[0m\u001b[0mconj\u001b[0m\u001b[0;34m(\u001b[0m\u001b[0mz1_state\u001b[0m\u001b[0;34m)\u001b[0m \u001b[0;34m@\u001b[0m \u001b[0mnp\u001b[0m\u001b[0;34m.\u001b[0m\u001b[0marray\u001b[0m\u001b[0;34m(\u001b[0m\u001b[0;34m)\u001b[0m\u001b[0;34m\u001b[0m\u001b[0;34m\u001b[0m\u001b[0m\n\u001b[0m",
      "\u001b[0;31mTypeError\u001b[0m: array() missing required argument 'object' (pos 1)"
     ]
    }
   ],
   "source": [
    "np.conj(z1_state) @ np.array() "
   ]
  },
  {
   "cell_type": "code",
   "execution_count": null,
   "id": "b19a5b45",
   "metadata": {},
   "outputs": [],
   "source": [
    "test = of.QubitOperator(list(xy_hamiltonian(J, alpha, n_q).terms.items())[0][0])\n",
    "for i in test:\n",
    "    print(i)"
   ]
  },
  {
   "cell_type": "code",
   "execution_count": null,
   "id": "114ba3b5",
   "metadata": {},
   "outputs": [],
   "source": [
    "for term in xy_hamiltonian(J, alpha, n_q):\n",
    "    print(term.terms.values())"
   ]
  },
  {
   "cell_type": "code",
   "execution_count": null,
   "id": "c4689feb",
   "metadata": {},
   "outputs": [],
   "source": []
  }
 ],
 "metadata": {
  "kernelspec": {
   "display_name": "Python 3 (ipykernel)",
   "language": "python",
   "name": "python3"
  },
  "language_info": {
   "codemirror_mode": {
    "name": "ipython",
    "version": 3
   },
   "file_extension": ".py",
   "mimetype": "text/x-python",
   "name": "python",
   "nbconvert_exporter": "python",
   "pygments_lexer": "ipython3",
   "version": "3.7.11"
  }
 },
 "nbformat": 4,
 "nbformat_minor": 5
}
